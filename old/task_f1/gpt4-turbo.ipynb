{
 "cells": [
  {
   "cell_type": "markdown",
   "metadata": {},
   "source": [
    "# F1 QA\n",
    "\n",
    "## Ask questions using GPT4-turbo"
   ]
  },
  {
   "cell_type": "markdown",
   "metadata": {},
   "source": [
    "## Import and definitions"
   ]
  },
  {
   "cell_type": "code",
   "execution_count": 61,
   "metadata": {
    "ExecuteTime": {
     "end_time": "2023-11-17T19:30:03.635058400Z",
     "start_time": "2023-11-17T19:30:03.629007500Z"
    }
   },
   "outputs": [],
   "source": [
    "from openai import OpenAI\n",
    "from config import open_ai_key\n",
    "from time import sleep\n",
    "from itertools import cycle"
   ]
  },
  {
   "cell_type": "code",
   "execution_count": 60,
   "metadata": {
    "ExecuteTime": {
     "end_time": "2023-11-17T20:03:42.202801400Z",
     "start_time": "2023-11-17T20:03:42.134846500Z"
    }
   },
   "outputs": [],
   "source": [
    "client = OpenAI(api_key=open_ai_key)\n",
    "\n",
    "\n",
    "def upload_file(file_path):\n",
    "  # Upload a file with an \"assistants\" purpose\n",
    "  upload_file = client.files.create(\n",
    "  file=open(file_path, \"rb\"),\n",
    "  purpose='assistants')\n",
    "\n",
    "  return upload_file\n",
    "\n",
    "\n",
    "def create_assistant(file):\n",
    "  assistant = client.beta.assistants.create(\n",
    "    instructions=\"You are a customer support chatbot. Use your knowledge base to best respond to customer queries.\",\n",
    "    model=\"gpt-4-1106-preview\",\n",
    "    tools=[{\"type\": \"retrieval\"}])\n",
    "\n",
    "  # Add the file to the assistant\n",
    "  assistant = client.beta.assistants.create(\n",
    "    instructions=\"You are a mechanical designer chatbot. Use your knowledge base to best respond to customer queries.\",\n",
    "    model=\"gpt-4-1106-preview\",\n",
    "    tools=[{\"type\": \"retrieval\"}],\n",
    "    file_ids=[file.id])\n",
    "\n",
    "  return assistant\n",
    "\n",
    "\n",
    "def run_thread(question):\n",
    "  thread = client.beta.threads.create()\n",
    "  message = client.beta.threads.messages.create(\n",
    "    thread_id=thread.id,\n",
    "    role=\"user\",\n",
    "    content=question)\n",
    "  run = client.beta.threads.runs.create(\n",
    "    thread_id=thread.id,\n",
    "    assistant_id=assistant.id,)\n",
    "  status_complete = False\n",
    "  for i in cycle([\"|\", \"/\", \"-\", \"\\\\\"]):\n",
    "    print(f\"Loading... {i}\",end='\\r') # '\\r' clears the previous output\n",
    "    run = client.beta.threads.runs.retrieve(\n",
    "      thread_id=thread.id,\n",
    "      run_id=run.id)\n",
    "    status_complete = run.status == \"completed\"\n",
    "    if status_complete:\n",
    "      break\n",
    "    sleep(0.5)\n",
    "\n",
    "    # Retrieve the message object\n",
    "    messages = client.beta.threads.messages.list(\n",
    "      thread_id=thread.id)\n",
    "\n",
    "  # Extract the message content\n",
    "  message_content = messages.data[0].content[0].text\n",
    "  annotations = message_content.annotations\n",
    "  citations = []\n",
    "\n",
    "  # Iterate over the annotations and add footnotes\n",
    "  for index, annotation in enumerate(annotations):\n",
    "      # Replace the text with a footnote\n",
    "      message_content.value = message_content.value.replace(annotation.text, f' [{index}]')\n",
    "\n",
    "      # Gather citations based on annotation attributes\n",
    "      if (file_citation := getattr(annotation, 'file_citation', None)):\n",
    "          cited_file = client.files.retrieve(file_citation.file_id)\n",
    "          citations.append(f'[{index}] {file_citation.quote} from {cited_file.filename}')\n",
    "      elif (file_path := getattr(annotation, 'file_path', None)):\n",
    "          cited_file = client.files.retrieve(file_path.file_id)\n",
    "          citations.append(f'[{index}] Click <here> to download {cited_file.filename}')\n",
    "          # Note: File download functionality not implemented above for brevity\n",
    "\n",
    "  # Add footnotes to the end of the message before displaying to user\n",
    "  message_content.value += '\\n\\n' + '\\n'.join(citations)\n",
    "\n",
    "  return message_content.value"
   ]
  },
  {
   "cell_type": "markdown",
   "metadata": {},
   "source": [
    "## Upload file and create new assistant"
   ]
  },
  {
   "cell_type": "code",
   "execution_count": 15,
   "metadata": {
    "ExecuteTime": {
     "end_time": "2023-11-17T19:31:24.640937900Z",
     "start_time": "2023-11-17T19:31:18.996253700Z"
    }
   },
   "outputs": [],
   "source": [
    "file_path = \"texts/2022_formula_1_technical_regulations_-_iss_3_-_2021-02-19.pdf\"\n",
    "\n",
    "file = upload_file(file_path)\n",
    "assistant = create_assistant(file)"
   ]
  },
  {
   "cell_type": "markdown",
   "metadata": {},
   "source": [
    "## Ask questions"
   ]
  },
  {
   "cell_type": "code",
   "execution_count": 16,
   "metadata": {
    "ExecuteTime": {
     "end_time": "2023-11-17T19:31:24.640937900Z",
     "start_time": "2023-11-17T19:31:24.628938Z"
    }
   },
   "outputs": [],
   "source": [
    "question = \"What material can be used to manufacture the secondary roll structure?\""
   ]
  },
  {
   "cell_type": "code",
   "execution_count": 38,
   "metadata": {
    "ExecuteTime": {
     "end_time": "2023-11-17T19:48:12.086627900Z",
     "start_time": "2023-11-17T19:48:02.281421900Z"
    }
   },
   "outputs": [
    {
     "name": "stdout",
     "output_type": "stream",
     "text": [
      "The secondary roll structure, also known as the Halo, must be made to the standard FIA8869-2018 and must be supplied by an FIA designated manufacturer [0]. Therefore, individual teams do not manufacture this part themselves but must acquire it from a source that has been certified by the FIA to ensure compliance with safety and technical specifications.\n",
      "[0] Secondary Roll Structure (Halo) \n",
      "The secondary roll structure which is not considered part of the survival cell must be\n",
      "positioned symmetrically about the car centre plane with its front fixing axis at XC\n",
      "= -975 and\n",
      "Z=660. The mounting faces for the rearward fixings must lie on the plane Z=695. \n",
      "The secondary roll structure must be made to standard FIA8869-2018 and supplied by an FIA\n",
      "designated manufacturer from 2022_formula_1_technical_regulations_-_iss_3_-_2021-02-19.pdf\n"
     ]
    }
   ],
   "source": [
    "response = run_thread(question)\n",
    "print(response)"
   ]
  },
  {
   "cell_type": "code",
   "execution_count": 47,
   "metadata": {
    "ExecuteTime": {
     "end_time": "2023-11-17T19:59:53.605473800Z",
     "start_time": "2023-11-17T19:59:53.572472200Z"
    }
   },
   "outputs": [],
   "source": [
    "question = \"Can a fillet of 15mm be added to between the rear wing endplate and rear wing beam?\""
   ]
  },
  {
   "cell_type": "code",
   "execution_count": 48,
   "metadata": {
    "ExecuteTime": {
     "end_time": "2023-11-17T20:00:04.787994500Z",
     "start_time": "2023-11-17T19:59:54.065447300Z"
    }
   },
   "outputs": [
    {
     "name": "stdout",
     "output_type": "stream",
     "text": [
      "According to the 2022 Formula 1 Technical Regulations, for the rear wing endplate and rear wing beam assembly under Article 3.10.9:\n",
      "\n",
      "\"A fillet radius no greater than 10mm may be applied along the periphery of where these volumes intersect. Furthermore, once the trim is complete when viewed from the side no part of the Rear Wing Beam may be visible.\"\n",
      "\n",
      "Therefore, based on the regulations, a fillet of 15mm between the rear wing endplate and rear wing beam would not be permissible as it exceeds the maximum allowed fillet radius of 10mm.\n",
      "\n"
     ]
    }
   ],
   "source": [
    "response = run_thread(question)\n",
    "print(response)"
   ]
  },
  {
   "cell_type": "code",
   "execution_count": 45,
   "metadata": {
    "ExecuteTime": {
     "end_time": "2023-11-17T19:58:56.251307400Z",
     "start_time": "2023-11-17T19:58:56.225307700Z"
    }
   },
   "outputs": [],
   "source": [
    "question = \"What are all the components of the Rear Bodywork?\""
   ]
  },
  {
   "cell_type": "code",
   "execution_count": 46,
   "metadata": {
    "ExecuteTime": {
     "end_time": "2023-11-17T19:59:22.529322800Z",
     "start_time": "2023-11-17T19:58:57.001308100Z"
    }
   },
   "outputs": [
    {
     "name": "stdout",
     "output_type": "stream",
     "text": [
      "The components of the Rear Bodywork, as defined by the 2022 Formula 1 Technical Regulations, comprise the following:\n",
      "\n",
      "1. **Coke Panel**: Must lie within a specific volume (RV-RBW-COKE) and be arranged to meet visibility restrictions when viewed from the side.\n",
      "\n",
      "2. **Engine Cover**: Similarly, must lie within another predetermined volume (RV-RBW-EC) and also comply with visibility requisites from the side.\n",
      "\n",
      "3. **Combination of Coke Panel and Engine Cover Surfaces**: The combination must form continuous curves with specified radii of curvature. They must not contain certain apertures or surfaces parallel to the X plane ahead of a specific X-coordinate (XR = -55).\n",
      "\n",
      "4. **Apertures in the Bodywork**: Once defined, apertures can be added for suspension components, cooling flow exits, and auxiliary component cooling, within set size limits and placement conditions.\n",
      "\n",
      "5. **Tail**: This area must fit within a designated volume (RV-TAIL) and also meets certain visibility restrictions.\n",
      "\n",
      "6. **Exhaust Tailpipe**: Must conform to specific size dimensions and have an exit within a set X-coordinate range.\n",
      "\n",
      "The regulations also require continuity and tangency of external surfaces at the boundaries between adjacent sections of automotive bodywork parts, such as the Coke Panel and Engine Cover, to ensure a smooth transition between these components [0].\n",
      "[0] 3.7.2  Coke Panel\n",
      "Bodywork declared as “Coke Panel” must: \n",
      "a. Lie within RV-RBW-COKE.\n",
      "b. At no point be less than 50mm distant to RV-FLOOR-EDGE.\n",
      "c. Be arranged such that when viewed from the side no part of RS-RBW-EC that lies\n",
      "within RV-RBW-COKE may be visible. \n",
      "3.7.3  Engine Cover\n",
      "Bodywork declared as “Engine Cover” must: \n",
      "a. Lie within RV-RBW-EC.\n",
      "b. Be arranged such that when viewed from the side no part of RS-RBW-EC that lies\n",
      "within RV-RBW-EC may be visible. \n",
      "3.7.4  Coke Panel and Engine Cover Shape\n",
      "On each side of the car the combined external Coke Panel and Engine Cover surfaces must: \n",
      "a. On any X section form one tangent continuous curve. Furthermore: \n",
      "i.  Outboard of Y=25 the radius of curvature of any such section must not be less\n",
      "than 75mm if convex or 50mm if concave with the exception of a rectangular\n",
      "\n",
      "\n",
      "2022 Formula 1 Technical Regulations\n",
      "© 2021 Fédération Internationale de l’Automobile \n",
      "22  19 February 2021\n",
      "Issue 3\n",
      "\n",
      "region bounded in plan view by (XC\n",
      "=20 125) and (XC\n",
      "=150 375) where the\n",
      "radius of curvature must not be less than 25mm. \n",
      "ii. Between Y=5 and Y=25 the radius of curvature of any such section must not\n",
      "be less than 25mm. \n",
      "b. Not contain any apertures ahead of XR\n",
      "= -55 other than those permitted in Article\n",
      "3.7.5. \n",
      "c. Not contain any surface parallel to a X plane ahead of XR\n",
      "= -55. \n",
      "d. Rearward of XR \n",
      "= -300 below Z=350 and prior to the addition of any apertures the X\n",
      "component of any normal to the external surface of bodywork visible from the side\n",
      "must not be negative. \n",
      "The cameras (position 3) and mounting brackets defined in Article 8.17.8 will be exempt from\n",
      "the restrictions of this Article. \n",
      "3.7.5  Apertures\n",
      "Once the Rear Bodywork surfaces are fully defined in accordance with Articles 3.7.1 to 3.7.4 \n",
      "the following apertures may be added: \n",
      "a. For the sole purpose of allowing suspension members and their fairings and\n",
      "driveshafts to protrude through the bodywork and provided that the result of adding\n",
      "the aperture does not subvert the intention of regulation 3.7.4 a single aperture may\n",
      "be added for each suspension member and driveshaft. No such aperture may have an\n",
      "area greater than 12000mm2. No point on an aperture may be more than 200mm\n",
      "from any other point on the aperture. Individual apertures may adjoin or overlap each\n",
      "other. At the legality ride height defined in Article 10.1.4 the aperture must enclose\n",
      "the suspension member including its fairing or driveshaft for parts forward of\n",
      "XR\n",
      "= -55. \n",
      "b. For the sole purpose of allowing cooling flow exits apertures may be added provided\n",
      "they lie within RV-RBW-APERTURE. The total area (per side of the car) of such\n",
      "apertures may be no greater than 150000mm2. Furthermore any apertures added\n",
      "must be arranged such that when viewed from above no part of RS-RBW-APERTURE \n",
      "may be visible through the aperture and any underlying part of the car exposed by\n",
      "application of an aperture must lie no further than 50mm normal to the untrimmed\n",
      "surface. \n",
      "c. For the sole purpose of allowing cooling flow exits apertures may be added inboard of\n",
      "Y= 25. The total area of such apertures may not be greater than 30000mm2 per side of\n",
      "the car. \n",
      "d. For the sole purpose of cooling auxiliary components (such as Electrical Components \n",
      "etc.) apertures may be added forward of XF\n",
      "=1300 or below Z=100. The total area of\n",
      "such apertures may not exceed 5000mm2 per side of the car. \n",
      "All areas mentioned in this Article will be measured on the untrimmed Rear Bodywork\n",
      "surface. \n",
      "3.7.6  Rear Bodywork Group\n",
      "Once the components defined in Articles 3.7.1 to 3.7.5 have been constructed in accordance\n",
      "to the provisions of those Articles and any subsequent operation of sub-assembly described\n",
      "within those Articles has been applied the resulting union of these components is defined as\n",
      "“Rear Bodywork”.\n",
      "3.7.7  Continuity\n",
      "Once the Front and Rear Bodywork are fully defined the external surfaces at the boundaries\n",
      "between adjacent sections of the Front Bodywork Sidepod Coke Panel and Engine Cover\n",
      "parts must maintain continuity in any X Y or Z plane. \n",
      "Furthermore the external surfaces at the boundaries between adjacent sections of the\n",
      "Sidepod Coke Panel and Engine Cover parts must also maintain tangency in any X Y or Z\n",
      "plane. \n",
      "2022 Formula 1 Technical Regulations\n",
      "© 2021 Fédération Internationale de l’Automobile \n",
      "23  19 February 2021\n",
      "Issue 3\n",
      "\n",
      "3.8  Tail and Exhaust Tailpipe\n",
      "3.8.1  Tail\n",
      "Bodywork declared as “Tail” must: \n",
      "a. Lie within RV-TAIL.\n",
      "b. In any X-plane rearwards of XR\n",
      "=450 contain only a single closed section. \n",
      "c. Not be visible from beneath the car forward of XR\n",
      "=450 and with the Floor Body\n",
      "present. \n",
      "3.8.2  Exhaust Tailpipe from 2022_formula_1_technical_regulations_-_iss_3_-_2021-02-19.pdf\n"
     ]
    }
   ],
   "source": [
    "response = run_thread(question)\n",
    "print(response)"
   ]
  },
  {
   "cell_type": "code",
   "execution_count": 56,
   "metadata": {
    "ExecuteTime": {
     "end_time": "2023-11-17T20:03:14.801955300Z",
     "start_time": "2023-11-17T20:03:14.782948800Z"
    }
   },
   "outputs": [],
   "source": [
    "question = \"How is the Ride Height affected by a change in the attitude of the unsprung mass?\""
   ]
  },
  {
   "cell_type": "code",
   "execution_count": 57,
   "metadata": {
    "ExecuteTime": {
     "end_time": "2023-11-17T20:03:32.344964100Z",
     "start_time": "2023-11-17T20:03:15.123117200Z"
    }
   },
   "outputs": [
    {
     "name": "stdout",
     "output_type": "stream",
     "text": [
      "The ride height, as outlined in the 2022 Formula 1 Technical Regulations, refers specifically to the \"Legality ride height,\" which is the attitude of the unsprung mass in relation to the sprung mass for compliance with the technical regulations. The document mentions that at the legality ride height, with the wheels in a straight-ahead position, the origin of the wheels' coordinate system must be within a specific Z-coordinate range for both front and rear wheels [0].\n",
      "\n",
      "While the document specifies the acceptable range for the legality ride height, it does not provide detailed information on how a change in the attitude of the unsprung mass directly affects the ride height. However, it can be inferred that the ride height would be influenced by any modifications to the suspension components or adjustments that alter the relative positions of the sprung and unsprung masses. Changes in the unsprung mass, such as variations in the stiffness, damping, or geometry of the suspension, can alter the dynamic behavior of the car, including its ride height during different driving conditions. If you need more detailed information on this interaction, I can search further in the document.\n",
      "\n",
      "[0] Legality ride height\n",
      "The attitude of the unsprung mass in relation to the sprung mass for the assessment of its\n",
      "compliance to the Technical Regulations. \n",
      "At the legality ride height and with the wheels in the straight-ahead position the origin of\n",
      "the wheels’ coordinate system must lie between Z=310 and Z=340 for the front wheels and\n",
      "between Z=200 and Z=300 for the rear wheels. \n",
      "Mass damper from 2022_formula_1_technical_regulations_-_iss_3_-_2021-02-19.pdf\n"
     ]
    }
   ],
   "source": [
    "response = run_thread(question)\n",
    "print(response)"
   ]
  },
  {
   "cell_type": "code",
   "execution_count": 51,
   "metadata": {
    "ExecuteTime": {
     "end_time": "2023-11-17T20:01:10.842973700Z",
     "start_time": "2023-11-17T20:01:10.821971500Z"
    }
   },
   "outputs": [],
   "source": [
    "question = \"Generate a set of geometric constraint equations for the Coke Panel.\""
   ]
  },
  {
   "cell_type": "code",
   "execution_count": 52,
   "metadata": {
    "ExecuteTime": {
     "end_time": "2023-11-17T20:01:51.728835300Z",
     "start_time": "2023-11-17T20:01:11.422065300Z"
    }
   },
   "outputs": [
    {
     "name": "stdout",
     "output_type": "stream",
     "text": [
      "To generate a set of geometric constraint equations for the Coke Panel as per the 2022 Formula 1 Technical Regulations, we need to consider the requirements stated in the document [0]:\n",
      "\n",
      "1. The Coke Panel must lie within a predetermined volume (RV-RBW-COKE).\n",
      "2. The Coke Panel must maintain a minimum distance of 50mm from RV-FLOOR-EDGE at every point.\n",
      "3. From a side view, no part of RS-RBW-EC that lies within RV-RBW-COKE may be visible.\n",
      "\n",
      "Additionally, for the combined external surfaces of the Coke Panel and Engine Cover:\n",
      "\n",
      "- On any X section, the curve formed must be tangent continuous.\n",
      "  - Outboard of Y=25, the radius of curvature must be at least 75mm if the curve is convex or 50mm if the curve is concave. However, within a specific rectangular region defined by \\( XC = [20, 125] \\) to \\( XC = [150, 375] \\), the radius of curvature must not be less than 25mm.\n",
      "  - Between Y=5 and Y=25, the radius of curvature must be at least 25mm.\n",
      "\n",
      "Based on these requirements, a set of geometric constraint equations could include:\n",
      "\n",
      "1. \\( (x, y, z) ∈ RV-RBW-COKE \\) to ensure the Coke Panel conform to the volume provided by RV-RBW-COKE.\n",
      "2. \\( min_{(x, y, z) ∈ Coke Panel} \\{distance((x, y, z), RV-FLOOR-EDGE)\\} ≥ 50mm \\)\n",
      "3. \\( visibility\\_{side}(RS-RBW-EC, RV-RBW-COKE) = false \\)\n",
      "\n",
      "And for the combined shape constraints:\n",
      "\n",
      "1. \\( curve\\_tangent\\_continuous(X_{section}) = true \\)\n",
      "2. If \\( y > 25 \\):\n",
      "    \\( R_{convex}(X_{section}) ≥ 75mm \\)\n",
      "    \\( R_{concave}(X_{section}) ≥ 50mm \\)\n",
      "   Except within \\( XC = [20, 125] \\) to \\( XC = [150, 375] \\):\n",
      "    \\( R_{curvature}(X_{section}) ≥ 25mm \\)\n",
      "3. If \\( 5 ≤ y ≤ 25 \\):\n",
      "    \\( R_{curvature}(X_{section}) ≥ 25mm \\)\n",
      "\n",
      "Furthermore, there should be no apertures on the Coke Panel ahead of a certain position in the X-direction (not specified in the visible text).\n",
      "\n",
      "These constraints can be translated into mathematical equations and implemented in a CAD (Computer-Aided Design) software or similar system that allows for the definition of geometric restrictions based on these rules. Please note that specific numerical volumes and distances would need to be defined based on the actual measurements provided in the technical regulations for RV-RBW-COKE and RV-FLOOR-EDGE.\n",
      "[0] 3.7.2  Coke Panel\n",
      "Bodywork declared as “Coke Panel” must: \n",
      "a. Lie within RV-RBW-COKE.\n",
      "b. At no point be less than 50mm distant to RV-FLOOR-EDGE.\n",
      "c. Be arranged such that when viewed from the side no part of RS-RBW-EC that lies\n",
      "within RV-RBW-COKE may be visible. \n",
      "3.7.3  Engine Cover\n",
      "Bodywork declared as “Engine Cover” must: \n",
      "a. Lie within RV-RBW-EC.\n",
      "b. Be arranged such that when viewed from the side no part of RS-RBW-EC that lies\n",
      "within RV-RBW-EC may be visible. \n",
      "3.7.4  Coke Panel and Engine Cover Shape\n",
      "On each side of the car the combined external Coke Panel and Engine Cover surfaces must: \n",
      "a. On any X section form one tangent continuous curve. Furthermore: \n",
      "i.  Outboard of Y=25 the radius of curvature of any such section must not be less\n",
      "than 75mm if convex or 50mm if concave with the exception of a rectangular\n",
      "\n",
      "\n",
      "2022 Formula 1 Technical Regulations\n",
      "© 2021 Fédération Internationale de l’Automobile \n",
      "22  19 February 2021\n",
      "Issue 3\n",
      "\n",
      "region bounded in plan view by (XC\n",
      "=20 125) and (XC\n",
      "=150 375) where the\n",
      "radius of curvature must not be less than 25mm. \n",
      "ii. Between Y=5 and Y=25 the radius of curvature of any such section must not\n",
      "be less than 25mm. \n",
      "b. Not contain any apertures ahead of XR\n",
      "= -55 from 2022_formula_1_technical_regulations_-_iss_3_-_2021-02-19.pdf\n"
     ]
    }
   ],
   "source": [
    "response = run_thread(question)\n",
    "print(response)"
   ]
  },
  {
   "cell_type": "code",
   "execution_count": 58,
   "metadata": {
    "ExecuteTime": {
     "end_time": "2023-11-17T20:03:32.383960300Z",
     "start_time": "2023-11-17T20:03:32.347961100Z"
    }
   },
   "outputs": [],
   "source": [
    "question = \"Which body component must maintain continuity with the Engine Cover?\""
   ]
  },
  {
   "cell_type": "code",
   "execution_count": 59,
   "metadata": {
    "ExecuteTime": {
     "end_time": "2023-11-17T20:03:42.139849500Z",
     "start_time": "2023-11-17T20:03:32.358960900Z"
    }
   },
   "outputs": [
    {
     "name": "stdout",
     "output_type": "stream",
     "text": [
      "The body component that must maintain continuity with the Engine Cover is the Sidepod Coke Panel. The external surfaces at the boundaries between these two parts must preserve both continuity and tangency in any X, Y, or Z plane [0].\n",
      "\n",
      "[0] 3.7.7  Continuity\n",
      "Once the Front and Rear Bodywork are fully defined the external surfaces at the boundaries\n",
      "between adjacent sections of the Front Bodywork Sidepod Coke Panel and Engine Cover\n",
      "parts must maintain continuity in any X Y or Z plane. \n",
      "Furthermore the external surfaces at the boundaries between adjacent sections of the\n",
      "Sidepod Coke Panel and Engine Cover parts must also maintain tangency in any X Y or Z\n",
      "plane from 2022_formula_1_technical_regulations_-_iss_3_-_2021-02-19.pdf\n"
     ]
    }
   ],
   "source": [
    "response = run_thread(question)\n",
    "print(response)"
   ]
  }
 ],
 "metadata": {
  "kernelspec": {
   "display_name": "Python 3 (ipykernel)",
   "language": "python",
   "name": "python3"
  },
  "language_info": {
   "codemirror_mode": {
    "name": "ipython",
    "version": 3
   },
   "file_extension": ".py",
   "mimetype": "text/x-python",
   "name": "python",
   "nbconvert_exporter": "python",
   "pygments_lexer": "ipython3",
   "version": "3.10.11"
  }
 },
 "nbformat": 4,
 "nbformat_minor": 1
}
